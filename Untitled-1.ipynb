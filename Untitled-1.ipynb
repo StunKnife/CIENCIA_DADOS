{
 "cells": [
  {
   "cell_type": "code",
   "execution_count": 3,
   "metadata": {},
   "outputs": [],
   "source": [
    "from pyspark.sql import SparkSession\n"
   ]
  },
  {
   "cell_type": "code",
   "execution_count": 4,
   "metadata": {},
   "outputs": [],
   "source": [
    "spark = SparkSession.builder \\\n",
    "    .appName(\"PySpark Test\") \\\n",
    "    .getOrCreate()"
   ]
  },
  {
   "cell_type": "code",
   "execution_count": 5,
   "metadata": {},
   "outputs": [
    {
     "data": {
      "text/html": [
       "\n",
       "            <div>\n",
       "                <p><b>SparkSession - in-memory</b></p>\n",
       "                \n",
       "        <div>\n",
       "            <p><b>SparkContext</b></p>\n",
       "\n",
       "            <p><a href=\"http://localhost:4040\">Spark UI</a></p>\n",
       "\n",
       "            <dl>\n",
       "              <dt>Version</dt>\n",
       "                <dd><code>v3.5.3</code></dd>\n",
       "              <dt>Master</dt>\n",
       "                <dd><code>local[*]</code></dd>\n",
       "              <dt>AppName</dt>\n",
       "                <dd><code>PySpark Test</code></dd>\n",
       "            </dl>\n",
       "        </div>\n",
       "        \n",
       "            </div>\n",
       "        "
      ],
      "text/plain": [
       "<pyspark.sql.session.SparkSession at 0x1d2ee465e80>"
      ]
     },
     "execution_count": 5,
     "metadata": {},
     "output_type": "execute_result"
    }
   ],
   "source": [
    "spark"
   ]
  },
  {
   "cell_type": "code",
   "execution_count": 9,
   "metadata": {},
   "outputs": [],
   "source": [
    "df = spark.read.format(\"csv\").option(\"header\", True).load(\"C:/Users/sauld/OneDrive/Área de Trabalho/CIENCIA_DADOS/train.csv\")\n"
   ]
  },
  {
   "cell_type": "code",
   "execution_count": 15,
   "metadata": {},
   "outputs": [],
   "source": [
    "from pyspark.sql import functions as F\n"
   ]
  },
  {
   "cell_type": "code",
   "execution_count": 11,
   "metadata": {},
   "outputs": [
    {
     "name": "stdout",
     "output_type": "stream",
     "text": [
      "+---+----------------+------+------------+---------------+------------------+-----------------+-------------+------------------+------+------------+------------+--------------+--------------+-----------+\n",
      "|age|       workclass|fnlwgt|   education|educational-num|    marital-status|       occupation| relationship|              race|gender|capital-gain|capital-loss|hours-per-week|native-country|income_>50K|\n",
      "+---+----------------+------+------------+---------------+------------------+-----------------+-------------+------------------+------+------------+------------+--------------+--------------+-----------+\n",
      "| 67|         Private|366425|   Doctorate|             16|          Divorced|  Exec-managerial|Not-in-family|             White|  Male|       99999|           0|            60| United-States|          1|\n",
      "| 17|         Private|244602|        12th|              8|     Never-married|    Other-service|    Own-child|             White|  Male|           0|           0|            15| United-States|          0|\n",
      "| 31|         Private|174201|   Bachelors|             13|Married-civ-spouse|  Exec-managerial|      Husband|             White|  Male|           0|           0|            40| United-States|          1|\n",
      "| 58|       State-gov|110199|     7th-8th|              4|Married-civ-spouse| Transport-moving|      Husband|             White|  Male|           0|           0|            40| United-States|          0|\n",
      "| 25|       State-gov|149248|Some-college|             10|     Never-married|    Other-service|Not-in-family|             Black|  Male|           0|           0|            40| United-States|          0|\n",
      "| 59|       State-gov|105363|     HS-grad|              9|     Never-married|     Adm-clerical|    Own-child|             White|  Male|           0|           0|            40| United-States|          0|\n",
      "| 70|         Private|216390|         9th|              5|Married-civ-spouse|Machine-op-inspct|         Wife|             White|Female|        2653|           0|            40| United-States|          0|\n",
      "| 35|Self-emp-not-inc|361888|   Bachelors|             13|Married-civ-spouse|            Sales|      Husband|             White|  Male|           0|           0|            60|         Japan|          0|\n",
      "| 28|         Private| 74784|     HS-grad|              9|     Never-married|Handlers-cleaners|Not-in-family|             White|  Male|           0|           0|            50| United-States|          0|\n",
      "| 28|         Private|118089|     HS-grad|              9|Married-civ-spouse|  Exec-managerial|      Husband|             White|  Male|        4386|           0|            45| United-States|          1|\n",
      "| 21|         Private|138513|Some-college|             10|     Never-married|  Exec-managerial|    Own-child|             White|  Male|           0|           0|            25| United-States|          0|\n",
      "| 30|Self-emp-not-inc|100252|     HS-grad|              9|Married-civ-spouse|Machine-op-inspct|    Own-child|Asian-Pac-Islander|  Male|           0|           0|            60|         South|          0|\n",
      "| 59|Self-emp-not-inc|241297|Some-college|             10|           Widowed|  Farming-fishing|Not-in-family|             White|Female|        6849|           0|            40| United-States|          0|\n",
      "| 20|         Private| 39764|     HS-grad|              9|     Never-married|Handlers-cleaners|    Own-child|             White|  Male|           0|           0|            40| United-States|          0|\n",
      "| 45|         Private| 30690|     7th-8th|              4|     Never-married|    Other-service|Not-in-family|             White|  Male|           0|           0|            10| United-States|          0|\n",
      "| 76|         Private|316185|     7th-8th|              4|           Widowed|  Protective-serv|Not-in-family|             White|Female|           0|           0|            12| United-States|          0|\n",
      "| 30|         Private|110239|        10th|              6|Married-civ-spouse| Transport-moving|      Husband|             White|  Male|           0|           0|            55| United-States|          0|\n",
      "| 54|     Federal-gov|278076|     HS-grad|              9|Married-civ-spouse|  Exec-managerial|      Husband|             White|  Male|        5178|           0|            40| United-States|          1|\n",
      "| 19|       Local-gov|259169|Some-college|             10|     Never-married|   Prof-specialty|    Own-child|             White|Female|           0|           0|            30| United-States|          0|\n",
      "| 44|         Private|136986|   Doctorate|             16|Married-civ-spouse|   Prof-specialty|      Husband|             White|  Male|           0|           0|            50| United-States|          1|\n",
      "+---+----------------+------+------------+---------------+------------------+-----------------+-------------+------------------+------+------------+------------+--------------+--------------+-----------+\n",
      "only showing top 20 rows\n",
      "\n"
     ]
    }
   ],
   "source": [
    "df.show()"
   ]
  },
  {
   "cell_type": "code",
   "execution_count": 16,
   "metadata": {},
   "outputs": [],
   "source": [
    "#df.groupBy(\"educational-num\").sum()\n",
    "df_grouped = df.groupBy(\"race\").agg(F.avg(\"educational-num\").alias(\"Média_Nota\"))\n"
   ]
  },
  {
   "cell_type": "code",
   "execution_count": 17,
   "metadata": {},
   "outputs": [
    {
     "name": "stdout",
     "output_type": "stream",
     "text": [
      "+------------------+------------------+\n",
      "|              race|        Média_Nota|\n",
      "+------------------+------------------+\n",
      "|             Other| 8.831099195710456|\n",
      "|Amer-Indian-Eskimo| 9.437054631828978|\n",
      "|             White|10.124560843181092|\n",
      "|Asian-Pac-Islander|10.981063364894393|\n",
      "|             Black| 9.503082029397818|\n",
      "+------------------+------------------+\n",
      "\n"
     ]
    }
   ],
   "source": [
    "df_grouped.show()"
   ]
  }
 ],
 "metadata": {
  "kernelspec": {
   "display_name": "Python 3",
   "language": "python",
   "name": "python3"
  },
  "language_info": {
   "codemirror_mode": {
    "name": "ipython",
    "version": 3
   },
   "file_extension": ".py",
   "mimetype": "text/x-python",
   "name": "python",
   "nbconvert_exporter": "python",
   "pygments_lexer": "ipython3",
   "version": "3.13.0"
  }
 },
 "nbformat": 4,
 "nbformat_minor": 2
}
